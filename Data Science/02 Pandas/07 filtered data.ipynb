{
 "cells": [
  {
   "cell_type": "code",
   "execution_count": 1,
   "metadata": {},
   "outputs": [
    {
     "data": {
      "text/plain": [
       "array(['Albania', 'Antigua and Barbuda', 'Argentina', 'Armenia', 'Aruba',\n",
       "       'Australia', 'Austria', 'Azerbaijan', 'Bahamas', 'Bahrain',\n",
       "       'Barbados', 'Belarus', 'Belgium', 'Belize',\n",
       "       'Bosnia and Herzegovina', 'Brazil', 'Bulgaria', 'Cabo Verde',\n",
       "       'Canada', 'Chile', 'Colombia', 'Costa Rica', 'Croatia', 'Cuba',\n",
       "       'Cyprus', 'Czech Republic', 'Denmark', 'Dominica', 'Ecuador',\n",
       "       'El Salvador', 'Estonia', 'Fiji', 'Finland', 'France', 'Georgia',\n",
       "       'Germany', 'Greece', 'Grenada', 'Guatemala', 'Guyana', 'Hungary',\n",
       "       'Iceland', 'Ireland', 'Israel', 'Italy', 'Jamaica', 'Japan',\n",
       "       'Kazakhstan', 'Kiribati', 'Kuwait', 'Kyrgyzstan', 'Latvia',\n",
       "       'Lithuania', 'Luxembourg', 'Macau', 'Maldives', 'Malta',\n",
       "       'Mauritius', 'Mexico', 'Mongolia', 'Montenegro', 'Netherlands',\n",
       "       'New Zealand', 'Nicaragua', 'Norway', 'Oman', 'Panama', 'Paraguay',\n",
       "       'Philippines', 'Poland', 'Portugal', 'Puerto Rico', 'Qatar',\n",
       "       'Republic of Korea', 'Romania', 'Russian Federation',\n",
       "       'Saint Kitts and Nevis', 'Saint Lucia',\n",
       "       'Saint Vincent and Grenadines', 'San Marino', 'Serbia',\n",
       "       'Seychelles', 'Singapore', 'Slovakia', 'Slovenia', 'South Africa',\n",
       "       'Spain', 'Sri Lanka', 'Suriname', 'Sweden', 'Switzerland',\n",
       "       'Thailand', 'Trinidad and Tobago', 'Turkey', 'Turkmenistan',\n",
       "       'Ukraine', 'United Arab Emirates', 'United Kingdom',\n",
       "       'United States', 'Uruguay', 'Uzbekistan'], dtype=object)"
      ]
     },
     "execution_count": 1,
     "metadata": {},
     "output_type": "execute_result"
    }
   ],
   "source": [
    "import pandas as pd\n",
    "df = pd.read_csv(\"00 03 master.csv\")\n",
    "# df\n",
    "df.country.unique()"
   ]
  },
  {
   "cell_type": "code",
   "execution_count": 2,
   "metadata": {},
   "outputs": [
    {
     "data": {
      "text/html": [
       "<div>\n",
       "<style scoped>\n",
       "    .dataframe tbody tr th:only-of-type {\n",
       "        vertical-align: middle;\n",
       "    }\n",
       "\n",
       "    .dataframe tbody tr th {\n",
       "        vertical-align: top;\n",
       "    }\n",
       "\n",
       "    .dataframe thead th {\n",
       "        text-align: right;\n",
       "    }\n",
       "</style>\n",
       "<table border=\"1\" class=\"dataframe\">\n",
       "  <thead>\n",
       "    <tr style=\"text-align: right;\">\n",
       "      <th></th>\n",
       "      <th>country</th>\n",
       "      <th>year</th>\n",
       "      <th>sex</th>\n",
       "      <th>age</th>\n",
       "      <th>suicides_no</th>\n",
       "      <th>population</th>\n",
       "    </tr>\n",
       "  </thead>\n",
       "  <tbody>\n",
       "    <tr>\n",
       "      <th>12764</th>\n",
       "      <td>Israel</td>\n",
       "      <td>2014</td>\n",
       "      <td>male</td>\n",
       "      <td>75+ years</td>\n",
       "      <td>32</td>\n",
       "      <td>164959</td>\n",
       "    </tr>\n",
       "    <tr>\n",
       "      <th>12765</th>\n",
       "      <td>Israel</td>\n",
       "      <td>2014</td>\n",
       "      <td>male</td>\n",
       "      <td>35-54 years</td>\n",
       "      <td>125</td>\n",
       "      <td>925543</td>\n",
       "    </tr>\n",
       "    <tr>\n",
       "      <th>12766</th>\n",
       "      <td>Israel</td>\n",
       "      <td>2014</td>\n",
       "      <td>male</td>\n",
       "      <td>55-74 years</td>\n",
       "      <td>54</td>\n",
       "      <td>577076</td>\n",
       "    </tr>\n",
       "    <tr>\n",
       "      <th>12767</th>\n",
       "      <td>Israel</td>\n",
       "      <td>2014</td>\n",
       "      <td>male</td>\n",
       "      <td>25-34 years</td>\n",
       "      <td>41</td>\n",
       "      <td>580208</td>\n",
       "    </tr>\n",
       "    <tr>\n",
       "      <th>12768</th>\n",
       "      <td>Israel</td>\n",
       "      <td>2014</td>\n",
       "      <td>male</td>\n",
       "      <td>15-24 years</td>\n",
       "      <td>35</td>\n",
       "      <td>633544</td>\n",
       "    </tr>\n",
       "    <tr>\n",
       "      <th>12774</th>\n",
       "      <td>Israel</td>\n",
       "      <td>2014</td>\n",
       "      <td>male</td>\n",
       "      <td>5-14 years</td>\n",
       "      <td>7</td>\n",
       "      <td>753317</td>\n",
       "    </tr>\n",
       "    <tr>\n",
       "      <th>12776</th>\n",
       "      <td>Israel</td>\n",
       "      <td>2015</td>\n",
       "      <td>male</td>\n",
       "      <td>75+ years</td>\n",
       "      <td>30</td>\n",
       "      <td>168826</td>\n",
       "    </tr>\n",
       "    <tr>\n",
       "      <th>12777</th>\n",
       "      <td>Israel</td>\n",
       "      <td>2015</td>\n",
       "      <td>male</td>\n",
       "      <td>55-74 years</td>\n",
       "      <td>65</td>\n",
       "      <td>595247</td>\n",
       "    </tr>\n",
       "    <tr>\n",
       "      <th>12778</th>\n",
       "      <td>Israel</td>\n",
       "      <td>2015</td>\n",
       "      <td>male</td>\n",
       "      <td>35-54 years</td>\n",
       "      <td>92</td>\n",
       "      <td>944406</td>\n",
       "    </tr>\n",
       "    <tr>\n",
       "      <th>12779</th>\n",
       "      <td>Israel</td>\n",
       "      <td>2015</td>\n",
       "      <td>male</td>\n",
       "      <td>25-34 years</td>\n",
       "      <td>45</td>\n",
       "      <td>586251</td>\n",
       "    </tr>\n",
       "    <tr>\n",
       "      <th>12781</th>\n",
       "      <td>Israel</td>\n",
       "      <td>2015</td>\n",
       "      <td>male</td>\n",
       "      <td>15-24 years</td>\n",
       "      <td>35</td>\n",
       "      <td>644674</td>\n",
       "    </tr>\n",
       "    <tr>\n",
       "      <th>12786</th>\n",
       "      <td>Israel</td>\n",
       "      <td>2015</td>\n",
       "      <td>male</td>\n",
       "      <td>5-14 years</td>\n",
       "      <td>2</td>\n",
       "      <td>770443</td>\n",
       "    </tr>\n",
       "  </tbody>\n",
       "</table>\n",
       "</div>"
      ],
      "text/plain": [
       "      country  year   sex          age  suicides_no  population\n",
       "12764  Israel  2014  male    75+ years           32      164959\n",
       "12765  Israel  2014  male  35-54 years          125      925543\n",
       "12766  Israel  2014  male  55-74 years           54      577076\n",
       "12767  Israel  2014  male  25-34 years           41      580208\n",
       "12768  Israel  2014  male  15-24 years           35      633544\n",
       "12774  Israel  2014  male   5-14 years            7      753317\n",
       "12776  Israel  2015  male    75+ years           30      168826\n",
       "12777  Israel  2015  male  55-74 years           65      595247\n",
       "12778  Israel  2015  male  35-54 years           92      944406\n",
       "12779  Israel  2015  male  25-34 years           45      586251\n",
       "12781  Israel  2015  male  15-24 years           35      644674\n",
       "12786  Israel  2015  male   5-14 years            2      770443"
      ]
     },
     "execution_count": 2,
     "metadata": {},
     "output_type": "execute_result"
    }
   ],
   "source": [
    "# df[(df.country=='Israel') & (df.year==2014)] # df if data is df[True] then print\n",
    "mask1 = df.country=='Israel'\n",
    "mask2 = df.year==2014\n",
    "mask3 = df.sex=='male'\n",
    "mask4 = df.year==2015\n",
    "f_df = df.loc[mask1 & (mask2 | mask4) & mask3, ['country','year','sex','age','suicides_no','population']]\n",
    "f_df\n",
    "# f_df.sum().suicides_no"
   ]
  },
  {
   "cell_type": "code",
   "execution_count": null,
   "metadata": {},
   "outputs": [],
   "source": [
    "mask1 = df.year >= 2010\n",
    "# 1998 - 2000\n",
    "mask2 = df.year.between(1989, 2000)\n",
    "mask3 = df.year.isin([2000, 2010]) # only 2000 and 2010 data\n",
    "df.loc[mask3]"
   ]
  },
  {
   "cell_type": "code",
   "execution_count": null,
   "metadata": {},
   "outputs": [],
   "source": [
    "f_df = df.loc[~mask3]\n",
    "f_df.year.unique()"
   ]
  },
  {
   "cell_type": "code",
   "execution_count": null,
   "metadata": {},
   "outputs": [],
   "source": [
    "#2010 - 2014\n",
    "# males , females , switzerland\n",
    "\n",
    "mask2 = df.year.between(2010, 2014)\n",
    "mask3 = df.sex == 'male'\n",
    "mask4 = df.country == 'Switzerland'\n",
    "mask5 = df.age == '15-24 years'\n",
    "fb_df = df.loc[mask2 & mask3 & mask4 & mask5, ['country','year','sex','age','suicides_no','population']]\n",
    "mask301 = df.sex == 'female'\n",
    "fg_df = df.loc[mask2 & mask301 & mask4 & mask5, ['country','year','sex','age','suicides_no','population']]\n",
    "\n",
    "# fb_df\n",
    "# fg_df"
   ]
  },
  {
   "cell_type": "code",
   "execution_count": null,
   "metadata": {},
   "outputs": [],
   "source": [
    "fb_df.sum().suicides_no # boys"
   ]
  },
  {
   "cell_type": "code",
   "execution_count": null,
   "metadata": {},
   "outputs": [],
   "source": [
    "fg_df.sum().suicides_no # girls"
   ]
  }
 ],
 "metadata": {
  "kernelspec": {
   "display_name": "Python 3 (ipykernel)",
   "language": "python",
   "name": "python3"
  },
  "language_info": {
   "codemirror_mode": {
    "name": "ipython",
    "version": 3
   },
   "file_extension": ".py",
   "mimetype": "text/x-python",
   "name": "python",
   "nbconvert_exporter": "python",
   "pygments_lexer": "ipython3",
   "version": "3.9.12"
  },
  "vscode": {
   "interpreter": {
    "hash": "e4c4f5b5028ce176ea3e2ca8b5f870cf54094bc5f9e53c22a6f9b04ab60410e2"
   }
  }
 },
 "nbformat": 4,
 "nbformat_minor": 2
}
