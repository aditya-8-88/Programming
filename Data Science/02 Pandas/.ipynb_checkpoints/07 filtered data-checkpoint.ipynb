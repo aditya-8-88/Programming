{
 "cells": [
  {
   "cell_type": "code",
   "execution_count": null,
   "metadata": {},
   "outputs": [],
   "source": [
    "import pandas as pd\n",
    "df = pd.read_csv(\"00 03 master.csv\")\n",
    "# df\n",
    "df.country.unique()"
   ]
  },
  {
   "cell_type": "code",
   "execution_count": null,
   "metadata": {},
   "outputs": [],
   "source": [
    "# df[(df.country=='Israel') & (df.year==2014)] # df if data is df[True] then print\n",
    "mask1 = df.country=='Israel'\n",
    "mask2 = df.year==2014\n",
    "mask3 = df.sex=='male'\n",
    "mask4 = df.year==2015\n",
    "f_df = df.loc[mask1 & (mask2 | mask4) & mask3, ['country','year','sex','age','suicides_no','population']]\n",
    "f_df\n",
    "# f_df.sum().suicides_no"
   ]
  },
  {
   "cell_type": "code",
   "execution_count": null,
   "metadata": {},
   "outputs": [],
   "source": [
    "mask1 = df.year >= 2010\n",
    "# 1998 - 2000\n",
    "mask2 = df.year.between(1989, 2000)\n",
    "mask3 = df.year.isin([2000, 2010]) # only 2000 and 2010 data\n",
    "df.loc[mask3]"
   ]
  },
  {
   "cell_type": "code",
   "execution_count": null,
   "metadata": {},
   "outputs": [],
   "source": [
    "f_df = df.loc[~mask3]\n",
    "f_df.year.unique()"
   ]
  },
  {
   "cell_type": "code",
   "execution_count": null,
   "metadata": {},
   "outputs": [],
   "source": [
    "#2010 - 2014\n",
    "# males , females , switzerland\n",
    "\n",
    "mask2 = df.year.between(2010, 2014)\n",
    "mask3 = df.sex == 'male'\n",
    "mask4 = df.country == 'Switzerland'\n",
    "mask5 = df.age == '15-24 years'\n",
    "fb_df = df.loc[mask2 & mask3 & mask4 & mask5, ['country','year','sex','age','suicides_no','population']]\n",
    "mask301 = df.sex == 'female'\n",
    "fg_df = df.loc[mask2 & mask301 & mask4 & mask5, ['country','year','sex','age','suicides_no','population']]\n",
    "\n",
    "# fb_df\n",
    "# fg_df"
   ]
  },
  {
   "cell_type": "code",
   "execution_count": null,
   "metadata": {},
   "outputs": [],
   "source": [
    "fb_df.sum().suicides_no # boys"
   ]
  },
  {
   "cell_type": "code",
   "execution_count": null,
   "metadata": {},
   "outputs": [],
   "source": [
    "fg_df.sum().suicides_no # girls"
   ]
  }
 ],
 "metadata": {
  "kernelspec": {
   "display_name": "Python 3 (ipykernel)",
   "language": "python",
   "name": "python3"
  },
  "language_info": {
   "codemirror_mode": {
    "name": "ipython",
    "version": 3
   },
   "file_extension": ".py",
   "mimetype": "text/x-python",
   "name": "python",
   "nbconvert_exporter": "python",
   "pygments_lexer": "ipython3",
   "version": "3.9.12"
  },
  "vscode": {
   "interpreter": {
    "hash": "e4c4f5b5028ce176ea3e2ca8b5f870cf54094bc5f9e53c22a6f9b04ab60410e2"
   }
  }
 },
 "nbformat": 4,
 "nbformat_minor": 2
}
