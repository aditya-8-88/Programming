{
 "cells": [
  {
   "cell_type": "code",
   "execution_count": 1,
   "metadata": {},
   "outputs": [],
   "source": [
    "import numpy as np"
   ]
  },
  {
   "cell_type": "code",
   "execution_count": 2,
   "metadata": {},
   "outputs": [
    {
     "data": {
      "text/plain": [
       "array([17, 28, 43, 38, 54, 50,  7, 66, 96, 96, 43, 51, 83, 61, 90, 43, 49,\n",
       "       37, 47,  4, 78, 14, 85, 76, 84, 73, 40, 14, 85, 80, 26, 68, 46, 21,\n",
       "       34, 30, 90, 87, 93, 72, 16, 51, 93, 97, 80, 41, 89, 10, 48, 45])"
      ]
     },
     "execution_count": 2,
     "metadata": {},
     "output_type": "execute_result"
    }
   ],
   "source": [
    "arr = np.random.randint ( 1,100,50 ) # creating 1D array inputing 50 random integers from 1 to 99\n",
    "arr"
   ]
  },
  {
   "cell_type": "code",
   "execution_count": 3,
   "metadata": {},
   "outputs": [
    {
     "data": {
      "text/plain": [
       "array([[17, 28, 43, 38, 54, 50,  7, 66, 96, 96],\n",
       "       [43, 51, 83, 61, 90, 43, 49, 37, 47,  4],\n",
       "       [78, 14, 85, 76, 84, 73, 40, 14, 85, 80],\n",
       "       [26, 68, 46, 21, 34, 30, 90, 87, 93, 72],\n",
       "       [16, 51, 93, 97, 80, 41, 89, 10, 48, 45]])"
      ]
     },
     "execution_count": 3,
     "metadata": {},
     "output_type": "execute_result"
    }
   ],
   "source": [
    "arr = arr.reshape (5,10) # reshaping arr in 2D array (5,10)\n",
    "arr"
   ]
  },
  {
   "cell_type": "code",
   "execution_count": 4,
   "metadata": {},
   "outputs": [
    {
     "data": {
      "text/plain": [
       "array([[17, 28, 43, 38, 54, 50,  7, 66, 96, 96, 43, 51, 83, 61, 90, 43,\n",
       "        49, 37, 47,  4, 78, 14, 85, 76, 84],\n",
       "       [73, 40, 14, 85, 80, 26, 68, 46, 21, 34, 30, 90, 87, 93, 72, 16,\n",
       "        51, 93, 97, 80, 41, 89, 10, 48, 45]])"
      ]
     },
     "execution_count": 4,
     "metadata": {},
     "output_type": "execute_result"
    }
   ],
   "source": [
    "arr = arr.reshape (2,-1) # now computer will automatically fit a number for -1  \n",
    "arr # if possible mutiples then it will show an error "
   ]
  }
 ],
 "metadata": {
  "kernelspec": {
   "display_name": "Python 3.10.3 64-bit",
   "language": "python",
   "name": "python3"
  },
  "language_info": {
   "codemirror_mode": {
    "name": "ipython",
    "version": 3
   },
   "file_extension": ".py",
   "mimetype": "text/x-python",
   "name": "python",
   "nbconvert_exporter": "python",
   "pygments_lexer": "ipython3",
   "version": "3.10.3"
  },
  "orig_nbformat": 4,
  "vscode": {
   "interpreter": {
    "hash": "e4c4f5b5028ce176ea3e2ca8b5f870cf54094bc5f9e53c22a6f9b04ab60410e2"
   }
  }
 },
 "nbformat": 4,
 "nbformat_minor": 2
}
