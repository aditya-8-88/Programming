{
 "cells": [
  {
   "cell_type": "markdown",
   "metadata": {},
   "source": [
    "### Import numpy library  "
   ]
  },
  {
   "cell_type": "code",
   "execution_count": 8,
   "metadata": {},
   "outputs": [],
   "source": [
    "import numpy as np"
   ]
  },
  {
   "cell_type": "markdown",
   "metadata": {},
   "source": [
    "### Create an Array using array function  "
   ]
  },
  {
   "cell_type": "code",
   "execution_count": 9,
   "metadata": {},
   "outputs": [
    {
     "data": {
      "text/plain": [
       "array([1, 2, 3])"
      ]
     },
     "execution_count": 9,
     "metadata": {},
     "output_type": "execute_result"
    }
   ],
   "source": [
    "arr = np.array([1,2,3])\n",
    "arr"
   ]
  },
  {
   "cell_type": "markdown",
   "metadata": {},
   "source": [
    "### Create an Array containing numbers from 20 to 40 "
   ]
  },
  {
   "cell_type": "code",
   "execution_count": 10,
   "metadata": {},
   "outputs": [
    {
     "data": {
      "text/plain": [
       "array([20, 21, 22, 23, 24, 25, 26, 27, 28, 29, 30, 31, 32, 33, 34, 35, 36,\n",
       "       37, 38, 39, 40])"
      ]
     },
     "execution_count": 10,
     "metadata": {},
     "output_type": "execute_result"
    }
   ],
   "source": [
    "arr2 = np.arange(20,41)\n",
    "arr2"
   ]
  },
  {
   "cell_type": "markdown",
   "metadata": {},
   "source": [
    "### Create an array which contain 10 elements and every element is 5  "
   ]
  },
  {
   "cell_type": "code",
   "execution_count": 11,
   "metadata": {},
   "outputs": [
    {
     "data": {
      "text/plain": [
       "array([5., 5., 5., 5., 5., 5., 5., 5., 5., 5.])"
      ]
     },
     "execution_count": 11,
     "metadata": {},
     "output_type": "execute_result"
    }
   ],
   "source": [
    "fives = np.ones(10)*5\n",
    "fives"
   ]
  },
  {
   "cell_type": "markdown",
   "metadata": {},
   "source": [
    "### create a 1-d array and then convert it into 3-d array  "
   ]
  },
  {
   "cell_type": "code",
   "execution_count": 12,
   "metadata": {},
   "outputs": [
    {
     "data": {
      "text/plain": [
       "array([[[39, 34],\n",
       "        [22, 31],\n",
       "        [28, 35],\n",
       "        [34, 13]],\n",
       "\n",
       "       [[41,  4],\n",
       "        [43,  6],\n",
       "        [ 1, 12],\n",
       "        [35, 11]],\n",
       "\n",
       "       [[23, 14],\n",
       "        [19, 37],\n",
       "        [16, 44],\n",
       "        [28, 45]]])"
      ]
     },
     "execution_count": 12,
     "metadata": {},
     "output_type": "execute_result"
    }
   ],
   "source": [
    "arr3 = np.random.randint(1,50,24).reshape(3,4,2)\n",
    "arr3"
   ]
  },
  {
   "cell_type": "markdown",
   "metadata": {},
   "source": [
    "### Create 2-d array which contains random 25 numbers between 0 and 1 "
   ]
  },
  {
   "cell_type": "code",
   "execution_count": 13,
   "metadata": {},
   "outputs": [
    {
     "data": {
      "text/plain": [
       "array([[0.94416002, 0.50183668, 0.62395295, 0.1156184 , 0.31728548],\n",
       "       [0.41482621, 0.86630916, 0.25045537, 0.48303426, 0.98555979],\n",
       "       [0.51948512, 0.61289453, 0.12062867, 0.8263408 , 0.60306013],\n",
       "       [0.54506801, 0.34276383, 0.30412079, 0.41702221, 0.68130077]])"
      ]
     },
     "execution_count": 13,
     "metadata": {},
     "output_type": "execute_result"
    }
   ],
   "source": [
    "arr4 = np.random.rand(4,5)\n",
    "arr4"
   ]
  },
  {
   "cell_type": "markdown",
   "metadata": {},
   "source": [
    "### create array containing 20 random integer then replace every even number with -1 \n",
    "#### Example - \n",
    "####                  array --- >  [44,55,12,6,3] \n",
    "####                  ouput ----> [-1,55, -1,-1,3]\n"
   ]
  },
  {
   "cell_type": "code",
   "execution_count": 14,
   "metadata": {},
   "outputs": [
    {
     "data": {
      "text/plain": [
       "array([-1,  3, 29, 35, 39, -1, -1, 43, 23, -1, 33, -1, -1, 33, 47, 33, -1,\n",
       "       -1, -1, 15])"
      ]
     },
     "execution_count": 14,
     "metadata": {},
     "output_type": "execute_result"
    }
   ],
   "source": [
    "np.random.seed(123)\n",
    "arr5 = np.random.randint(1,50,20)\n",
    "arr5[arr5 %2 == 0] = -1\n",
    "arr5"
   ]
  },
  {
   "cell_type": "markdown",
   "metadata": {},
   "source": [
    "#### You have a matrix \n",
    "[[5 , 10, 15, 20, 25],\n",
    "[30, 35, 40, 45, 50],\n",
    "[55, 60, 65, 70, 75],\n",
    "[80, 85, 90, 95, 100]]\n",
    "\n",
    "Extract\n",
    "[30,35,40]\n",
    "[55, 60, 65]"
   ]
  },
  {
   "cell_type": "code",
   "execution_count": 15,
   "metadata": {},
   "outputs": [
    {
     "data": {
      "text/plain": [
       "array([[30, 35, 40],\n",
       "       [55, 60, 65]])"
      ]
     },
     "execution_count": 15,
     "metadata": {},
     "output_type": "execute_result"
    }
   ],
   "source": [
    "matrix = np.array([[5 , 10, 15, 20, 25],\n",
    "                   [30, 35, 40, 45, 50],\n",
    "                   [55, 60, 65, 70, 75],\n",
    "                   [80, 85, 90, 95, 100]])\n",
    "matrix[1:3,0:3 ]"
   ]
  },
  {
   "cell_type": "markdown",
   "metadata": {},
   "source": [
    "### Concatenate two 1-d array   "
   ]
  },
  {
   "cell_type": "code",
   "execution_count": 16,
   "metadata": {},
   "outputs": [
    {
     "data": {
      "text/plain": [
       "array([1, 2, 3, 4, 5, 6])"
      ]
     },
     "execution_count": 16,
     "metadata": {},
     "output_type": "execute_result"
    }
   ],
   "source": [
    "arr7 = np.array([1,2,3])\n",
    "arr8 = np.array([4,5,6])\n",
    "np.hstack((arr7,arr8))"
   ]
  },
  {
   "cell_type": "markdown",
   "metadata": {},
   "source": [
    "### Stack 2-d matrix horizontally and vertically"
   ]
  },
  {
   "cell_type": "code",
   "execution_count": 17,
   "metadata": {},
   "outputs": [],
   "source": [
    "matrix2 = np.random.randint(1,10,9).reshape(3,3)\n",
    "matrix3 = np.random.randint(10,20,9).reshape(3,3)"
   ]
  },
  {
   "cell_type": "code",
   "execution_count": 18,
   "metadata": {},
   "outputs": [
    {
     "data": {
      "text/plain": [
       "array([[5, 1, 1],\n",
       "       [5, 2, 8],\n",
       "       [4, 3, 5]])"
      ]
     },
     "execution_count": 18,
     "metadata": {},
     "output_type": "execute_result"
    }
   ],
   "source": [
    "matrix2"
   ]
  },
  {
   "cell_type": "code",
   "execution_count": 19,
   "metadata": {},
   "outputs": [
    {
     "data": {
      "text/plain": [
       "array([[17, 12, 14],\n",
       "       [18, 10, 17],\n",
       "       [19, 13, 14]])"
      ]
     },
     "execution_count": 19,
     "metadata": {},
     "output_type": "execute_result"
    }
   ],
   "source": [
    "matrix3"
   ]
  },
  {
   "cell_type": "code",
   "execution_count": 20,
   "metadata": {},
   "outputs": [
    {
     "data": {
      "text/plain": [
       "array([[ 5,  1,  1],\n",
       "       [ 5,  2,  8],\n",
       "       [ 4,  3,  5],\n",
       "       [17, 12, 14],\n",
       "       [18, 10, 17],\n",
       "       [19, 13, 14]])"
      ]
     },
     "execution_count": 20,
     "metadata": {},
     "output_type": "execute_result"
    }
   ],
   "source": [
    "np.vstack((matrix2, matrix3))"
   ]
  },
  {
   "cell_type": "code",
   "execution_count": 21,
   "metadata": {},
   "outputs": [
    {
     "data": {
      "text/plain": [
       "array([[ 5,  1,  1, 17, 12, 14],\n",
       "       [ 5,  2,  8, 18, 10, 17],\n",
       "       [ 4,  3,  5, 19, 13, 14]])"
      ]
     },
     "execution_count": 21,
     "metadata": {},
     "output_type": "execute_result"
    }
   ],
   "source": [
    "np.hstack((matrix2, matrix3))"
   ]
  }
 ],
 "metadata": {
  "kernelspec": {
   "display_name": "Python 3.10.3 64-bit",
   "language": "python",
   "name": "python3"
  },
  "language_info": {
   "codemirror_mode": {
    "name": "ipython",
    "version": 3
   },
   "file_extension": ".py",
   "mimetype": "text/x-python",
   "name": "python",
   "nbconvert_exporter": "python",
   "pygments_lexer": "ipython3",
   "version": "3.10.3"
  },
  "vscode": {
   "interpreter": {
    "hash": "e4c4f5b5028ce176ea3e2ca8b5f870cf54094bc5f9e53c22a6f9b04ab60410e2"
   }
  }
 },
 "nbformat": 4,
 "nbformat_minor": 2
}
