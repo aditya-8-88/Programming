{
 "cells": [
  {
   "cell_type": "code",
   "execution_count": 1,
   "metadata": {},
   "outputs": [],
   "source": [
    "import pandas as pd\n",
    "movies_data = pd.read_csv(\"00 01 netflix_titles.csv\")\n",
    "# movies_data = pd.read_csv(\"00 01 netflix_titles.csv\", usecols = ['release_year'], squeeze = True) # squeeze makes it's data type to series and usecols uses only 'release_year' in this series(more can be added as well)"
   ]
  },
  {
   "cell_type": "code",
   "execution_count": 2,
   "metadata": {},
   "outputs": [],
   "source": [
    "ser = movies_data[ 'release_year' ]"
   ]
  },
  {
   "cell_type": "code",
   "execution_count": 3,
   "metadata": {},
   "outputs": [],
   "source": [
    "import numpy as np\n",
    "anime =  np.array(['My Hero Academia', 'Death note', 'Sword Art Online', 'One Punch Man', 'Domestic Girl'])\n",
    "genre = ['shounen','shounen', 'Action Adventure', 'action', 'shounen/shoujo']"
   ]
  },
  {
   "cell_type": "code",
   "execution_count": 4,
   "metadata": {},
   "outputs": [
    {
     "data": {
      "text/plain": [
       "0    My Hero Academia\n",
       "1          Death note\n",
       "2    Sword Art Online\n",
       "3       One Punch Man\n",
       "4       Domestic Girl\n",
       "Name: anime genre, dtype: object"
      ]
     },
     "execution_count": 4,
     "metadata": {},
     "output_type": "execute_result"
    }
   ],
   "source": [
    "anime_series = pd.Series (anime, name='anime genre')\n",
    "anime_series"
   ]
  },
  {
   "cell_type": "code",
   "execution_count": 5,
   "metadata": {},
   "outputs": [
    {
     "data": {
      "text/plain": [
       "My Hero Academia             shounen\n",
       "Death note                   shounen\n",
       "Sword Art Online    Action Adventure\n",
       "One Punch Man                 action\n",
       "Domestic Girl         shounen/shoujo\n",
       "Name: anime genre, dtype: object"
      ]
     },
     "execution_count": 5,
     "metadata": {},
     "output_type": "execute_result"
    }
   ],
   "source": [
    "anime_series2 = pd.Series(genre, index=anime, name='anime genre')\n",
    "anime_series2"
   ]
  },
  {
   "cell_type": "code",
   "execution_count": 6,
   "metadata": {},
   "outputs": [],
   "source": [
    "dic = {\n",
    "    \"My Hero Academia\"       :       \"shounen\",\n",
    "    \"Death note\"             :       \"shounen\",\n",
    "    \"Sword Art Online\"       :       \"Action Adventure\",\n",
    "    \"One Punch Man\"          :       \"action\",\n",
    "    \"Domestic Girlfriend\"    :       \"sports/josei\",\n",
    "    \"yuri on ice\"            :       \"kodomomuke\",\n",
    "    \"Doraemon\"               :       \"shounenshoujo\"   \n",
    "}"
   ]
  },
  {
   "cell_type": "code",
   "execution_count": 7,
   "metadata": {},
   "outputs": [
    {
     "data": {
      "text/plain": [
       "My Hero Academia                shounen\n",
       "Death note                      shounen\n",
       "Sword Art Online       Action Adventure\n",
       "One Punch Man                    action\n",
       "Domestic Girlfriend        sports/josei\n",
       "yuri on ice                  kodomomuke\n",
       "Doraemon                  shounenshoujo\n",
       "Name: anime genre, dtype: object"
      ]
     },
     "execution_count": 7,
     "metadata": {},
     "output_type": "execute_result"
    }
   ],
   "source": [
    "anime_ser2 = pd.Series(dic, name='anime genre')\n",
    "anime_ser2"
   ]
  },
  {
   "cell_type": "code",
   "execution_count": 8,
   "metadata": {},
   "outputs": [
    {
     "data": {
      "text/plain": [
       "1      one\n",
       "2      two\n",
       "3    three\n",
       "4     four\n",
       "Name: numbers, dtype: object"
      ]
     },
     "execution_count": 8,
     "metadata": {},
     "output_type": "execute_result"
    }
   ],
   "source": [
    "dic1 = {1:'one', 2:'two', 3:'three', 4:'four'}\n",
    "ser1 = pd.Series(dic1, name='numbers')\n",
    "ser1"
   ]
  },
  {
   "cell_type": "code",
   "execution_count": 9,
   "metadata": {},
   "outputs": [
    {
     "data": {
      "text/plain": [
       "4     four\n",
       "3    three\n",
       "2      two\n",
       "1      one\n",
       "Name: numbers, dtype: object"
      ]
     },
     "execution_count": 9,
     "metadata": {},
     "output_type": "execute_result"
    }
   ],
   "source": [
    "ser1.sort_index(ascending= False, inplace=True) # inplace=True sorts the series permanently\n",
    "ser1"
   ]
  },
  {
   "cell_type": "code",
   "execution_count": 10,
   "metadata": {},
   "outputs": [
    {
     "data": {
      "text/plain": [
       "4     four\n",
       "1      one\n",
       "3    three\n",
       "2      two\n",
       "Name: numbers, dtype: object"
      ]
     },
     "execution_count": 10,
     "metadata": {},
     "output_type": "execute_result"
    }
   ],
   "source": [
    "ser1.sort_values(ascending= True, inplace=True) # inplace=True sorts the series permanently\n",
    "ser1"
   ]
  },
  {
   "cell_type": "code",
   "execution_count": 11,
   "metadata": {},
   "outputs": [
    {
     "data": {
      "text/plain": [
       "['four', 'one', 'three', 'two']"
      ]
     },
     "execution_count": 11,
     "metadata": {},
     "output_type": "execute_result"
    }
   ],
   "source": [
    "ser1.tolist() # converts series to list"
   ]
  },
  {
   "cell_type": "code",
   "execution_count": 12,
   "metadata": {},
   "outputs": [
    {
     "data": {
      "text/plain": [
       "array(['four', 'one', 'three', 'two'], dtype=object)"
      ]
     },
     "execution_count": 12,
     "metadata": {},
     "output_type": "execute_result"
    }
   ],
   "source": [
    "ser1.values# converts series to array"
   ]
  },
  {
   "cell_type": "code",
   "execution_count": 13,
   "metadata": {},
   "outputs": [
    {
     "data": {
      "text/plain": [
       "Yamaha F310             8500\n",
       "Faith Apollo Venus     30000\n",
       "Taylor 214 CE         250000\n",
       "Baton Rou              40000\n",
       "Name: Price, dtype: int64"
      ]
     },
     "execution_count": 13,
     "metadata": {},
     "output_type": "execute_result"
    }
   ],
   "source": [
    "guitar_dic = {'Yamaha F310' :8500, 'Faith Apollo Venus' : 30000, 'Taylor 214 CE' : 250000, 'Baton Rou':40000}\n",
    "guitar_price = pd.Series(guitar_dic, name = 'Price')\n",
    "guitar_price"
   ]
  },
  {
   "cell_type": "code",
   "execution_count": 16,
   "metadata": {},
   "outputs": [
    {
     "data": {
      "text/plain": [
       "Yamaha F310            8500\n",
       "Faith Apollo Venus    30000\n",
       "Baton Rou             40000\n",
       "Name: Price, dtype: int64"
      ]
     },
     "execution_count": 16,
     "metadata": {},
     "output_type": "execute_result"
    }
   ],
   "source": [
    "guitar_price.nsmallest(n=3) # try using different values of n here\n",
    "# guitar_price.nlargest(n=2) # gives top 2 values "
   ]
  },
  {
   "cell_type": "code",
   "execution_count": 17,
   "metadata": {},
   "outputs": [
    {
     "data": {
      "text/plain": [
       "Index(['Yamaha F310', 'Faith Apollo Venus'], dtype='object')"
      ]
     },
     "execution_count": 17,
     "metadata": {},
     "output_type": "execute_result"
    }
   ],
   "source": [
    "guitar_price.nsmallest().index[0:2]\n",
    "# guitar_price.nlargest().index[0:2]"
   ]
  },
  {
   "cell_type": "code",
   "execution_count": null,
   "metadata": {},
   "outputs": [],
   "source": [
    "guitar_price.idxmin()\n",
    "# guitar_price.idxmax()"
   ]
  }
 ],
 "metadata": {
  "kernelspec": {
   "display_name": "Python 3 (ipykernel)",
   "language": "python",
   "name": "python3"
  },
  "language_info": {
   "codemirror_mode": {
    "name": "ipython",
    "version": 3
   },
   "file_extension": ".py",
   "mimetype": "text/x-python",
   "name": "python",
   "nbconvert_exporter": "python",
   "pygments_lexer": "ipython3",
   "version": "3.9.12"
  },
  "vscode": {
   "interpreter": {
    "hash": "e4c4f5b5028ce176ea3e2ca8b5f870cf54094bc5f9e53c22a6f9b04ab60410e2"
   }
  }
 },
 "nbformat": 4,
 "nbformat_minor": 2
}
