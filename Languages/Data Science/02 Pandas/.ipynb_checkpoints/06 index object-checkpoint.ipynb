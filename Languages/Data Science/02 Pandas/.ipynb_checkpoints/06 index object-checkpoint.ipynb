{
 "cells": [
  {
   "cell_type": "code",
   "execution_count": 4,
   "metadata": {},
   "outputs": [
    {
     "data": {
      "text/plain": [
       "a    1\n",
       "B    2\n",
       "c    3\n",
       "dtype: int64"
      ]
     },
     "execution_count": 4,
     "metadata": {},
     "output_type": "execute_result"
    }
   ],
   "source": [
    "import pandas as pd\n",
    "movies_data = pd.read_csv(\"00 01 netflix_titles.csv\", index_col='title')\n",
    "# movies_data.head(2)\n",
    "\n",
    "movies_data.loc['Kota Factory']\n",
    "\n",
    "movies_data.reset_index(inplace=True)  # resetting index inplace of titles\n",
    "movies_data.head(2)\n",
    "\n",
    "movies_data.set_index('director', inplace=True)\n",
    "movies_data.head(2)\n",
    "\n",
    "movies_data.index\n",
    "movies_data.index.get_loc('Kirsten Johnson') # give sthe index keyword\n",
    "movies_data.index.is_unique # checks if things are unique in movies_data\n",
    "\n",
    "xyz = pd.Index(['a', 'B', 'c'])\n",
    "xyz\n",
    "xyz.is_unique\n",
    "\n",
    "ser = pd.Series([1,2,3], index=xyz)\n",
    "ser"
   ]
  }
 ],
 "metadata": {
  "kernelspec": {
   "display_name": "Python 3 (ipykernel)",
   "language": "python",
   "name": "python3"
  },
  "language_info": {
   "codemirror_mode": {
    "name": "ipython",
    "version": 3
   },
   "file_extension": ".py",
   "mimetype": "text/x-python",
   "name": "python",
   "nbconvert_exporter": "python",
   "pygments_lexer": "ipython3",
   "version": "3.9.12"
  },
  "vscode": {
   "interpreter": {
    "hash": "e4c4f5b5028ce176ea3e2ca8b5f870cf54094bc5f9e53c22a6f9b04ab60410e2"
   }
  }
 },
 "nbformat": 4,
 "nbformat_minor": 2
}
